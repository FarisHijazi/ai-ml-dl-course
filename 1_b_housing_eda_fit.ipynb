{
 "cells": [
  {
   "cell_type": "markdown",
   "metadata": {},
   "source": [
    "{{ badge }}"
   ]
  },
  {
   "attachments": {},
   "cell_type": "markdown",
   "metadata": {},
   "source": [
    "<a href=\"https://colab.research.google.com/github/farishijazi/ai-ml-dl-course/blob/master/1_b_housing_eda_fit.ipynb\"><img src=\"https://colab.research.google.com/assets/colab-badge.svg\"></a>\n"
   ]
  },
  {
   "cell_type": "code",
   "execution_count": null,
   "metadata": {},
   "outputs": [],
   "source": [
    "import numpy as np\n",
    "import matplotlib.pyplot as plt\n",
    "import seaborn as sns\n",
    "%matplotlib inline"
   ]
  },
  {
   "cell_type": "code",
   "execution_count": null,
   "metadata": {},
   "outputs": [],
   "source": [
    "from sklearn.datasets import fetch_openml\n",
    "\n",
    "# load house prices data (this is a special function for well known datasets)\n",
    "dataset = fetch_openml('house_prices', as_frame=True)\n",
    "\n",
    "data = dataset.data.copy()\n",
    "data['SalePrice'] = dataset.target\n",
    "\n",
    "# reduce the number of features (you can comment this line)\n",
    "# data = data[[\"MSSubClass\", \"MSZoning\", \"LotArea\", \"LotConfig\", \"BldgType\", \"OverallCond\", \"YearBuilt\", \"YearRemodAdd\", \"Exterior1st\", \"BsmtFinSF2\", \"TotalBsmtSF\", \"SalePrice\", ]]\n",
    "\n",
    "X = data.drop(['SalePrice'],1) # the input features (questions)\n",
    "y = data['SalePrice'] # the output feature (answer)\n",
    "\n",
    "data.head()"
   ]
  },
  {
   "cell_type": "code",
   "execution_count": null,
   "metadata": {},
   "outputs": [],
   "source": [
    "data.describe()"
   ]
  },
  {
   "cell_type": "code",
   "execution_count": null,
   "metadata": {},
   "outputs": [],
   "source": [
    "plt.figure(figsize=(20, 10))\n",
    "sns.distplot(data['SalePrice'], color='g', bins=100, hist_kws={'alpha': 0.4});"
   ]
  },
  {
   "cell_type": "code",
   "execution_count": null,
   "metadata": {},
   "outputs": [],
   "source": [
    "num_cols = [x for x in X if data[x].dtype in ['float64','int64']]\n",
    "obj_cols = [x for x in X if data[x].dtype == 'object']"
   ]
  },
  {
   "cell_type": "code",
   "execution_count": null,
   "metadata": {},
   "outputs": [],
   "source": [
    "plt.figure(figsize=(12, 6))\n",
    "sns.heatmap(data[num_cols].corr(),\n",
    "            fmt = '.2f',\n",
    "            linewidths = 2,\n",
    "            annot = True)"
   ]
  },
  {
   "cell_type": "code",
   "execution_count": null,
   "metadata": {},
   "outputs": [],
   "source": [
    "num_data = data.select_dtypes(include = ['float64', 'int64'])\n",
    "num_data.hist(figsize=(20, 20), bins=50, xlabelsize=8, ylabelsize=8);"
   ]
  },
  {
   "cell_type": "code",
   "execution_count": null,
   "metadata": {},
   "outputs": [],
   "source": [
    "for i in range(0, len(num_data.columns), 5):\n",
    "    sns.pairplot(data=num_data,\n",
    "                x_vars=num_data.columns[i:i+5],\n",
    "                y_vars=['SalePrice'])"
   ]
  },
  {
   "cell_type": "code",
   "execution_count": null,
   "metadata": {},
   "outputs": [],
   "source": [
    "# count strings in each column\n",
    "data_obj = data.select_dtypes(include = ['object'])\n",
    "fig, axes = plt.subplots(round(len(data_obj.columns) / 3), 3, figsize=(15, 15))\n",
    "\n",
    "for i, ax in enumerate(fig.axes):\n",
    "    if i < len(data_obj.columns):\n",
    "        ax.set_xticklabels(ax.xaxis.get_majorticklabels(), rotation=45)\n",
    "        sns.countplot(x=data_obj.columns[i], alpha=0.7, data=data_obj, ax=ax)\n",
    "\n",
    "fig.tight_layout()"
   ]
  },
  {
   "cell_type": "code",
   "execution_count": null,
   "metadata": {},
   "outputs": [],
   "source": [
    "## filling missing values using \"most_frequent\" strategy\n",
    "# this part is optional, try skipping it and see what happens\n",
    "\n",
    "from sklearn.impute import SimpleImputer\n",
    "from sklearn.preprocessing import OneHotEncoder\n",
    "from sklearn.pipeline import Pipeline\n",
    "from sklearn.compose import ColumnTransformer\n",
    "\n",
    "num_pipe = Pipeline(steps = [('impute', SimpleImputer(strategy='mean'))])\n",
    "obj_pipe = Pipeline(steps = [('impute', SimpleImputer(strategy='most_frequent')),('onehot', OneHotEncoder())])\n",
    "preprocess = ColumnTransformer([\n",
    "    ('number', num_pipe, num_cols),\n",
    "    ('object', obj_pipe, obj_cols)\n",
    "])\n",
    "X = preprocess.fit_transform(X).toarray()"
   ]
  },
  {
   "cell_type": "code",
   "execution_count": null,
   "metadata": {},
   "outputs": [],
   "source": [
    "# splitting train and test data\n",
    "from sklearn.model_selection import train_test_split\n",
    "X_train, X_test, y_train, y_test = train_test_split(X, y, test_size = 0.2)\n",
    "\n",
    "# from sparse matrix to numpy array\n",
    "X_train = X_train\n",
    "X_test = X_test\n",
    "y_train = y_train\n",
    "y_test = y_test\n",
    "\n",
    "X_train.shape, y_train.shape"
   ]
  },
  {
   "cell_type": "code",
   "execution_count": null,
   "metadata": {},
   "outputs": [],
   "source": [
    "from sklearn.linear_model import LinearRegression"
   ]
  },
  {
   "cell_type": "code",
   "execution_count": null,
   "metadata": {},
   "outputs": [],
   "source": [
    "reg = LinearRegression()\n",
    "reg.fit(X_train, y_train)"
   ]
  },
  {
   "cell_type": "code",
   "execution_count": null,
   "metadata": {},
   "outputs": [],
   "source": [
    "reg.score(X_test,y_test)"
   ]
  },
  {
   "cell_type": "code",
   "execution_count": null,
   "metadata": {},
   "outputs": [],
   "source": [
    "y_pred = reg.predict(X_test)\n",
    "plt.scatter(y_test, y_pred, alpha=0.4)\n",
    "plt.xlabel('Actual')\n",
    "plt.ylabel('Predicted')\n",
    "plt.title('Actual vs Predicted')\n",
    "plt.show()"
   ]
  },
  {
   "cell_type": "code",
   "execution_count": null,
   "metadata": {},
   "outputs": [],
   "source": [
    "from sklearn import ensemble\n",
    "clf = ensemble.GradientBoostingRegressor(n_estimators = 400, max_depth = 5, min_samples_split = 2,\n",
    "          learning_rate = 0.1, loss = 'ls')"
   ]
  },
  {
   "cell_type": "code",
   "execution_count": null,
   "metadata": {},
   "outputs": [],
   "source": [
    "clf.fit(X_train, y_train)"
   ]
  },
  {
   "cell_type": "code",
   "execution_count": null,
   "metadata": {},
   "outputs": [],
   "source": [
    "clf.score(X_test,y_test)"
   ]
  },
  {
   "cell_type": "code",
   "execution_count": null,
   "metadata": {},
   "outputs": [],
   "source": [
    "y_pred = clf.predict(X_test)\n",
    "\n",
    "# plot predictions vs actual values\n",
    "plt.scatter(y_test, y_pred, alpha=0.4)\n",
    "plt.xlabel('Actual')\n",
    "plt.ylabel('Predicted')\n",
    "plt.title('Actual vs Predicted')\n",
    "plt.show()"
   ]
  },
  {
   "attachments": {},
   "cell_type": "markdown",
   "metadata": {},
   "source": [
    "## Going further\n",
    "\n",
    "We have only scratched the surface of Machine Learning.\n",
    "\n",
    "There are multiple methods to improve a Machine Learning model:\n",
    "\n",
    "- [Normalize data](https://inside-machinelearning.com/en/normalize-your-data/)\n",
    "- [Cross-Validation](https://inside-machinelearning.com/en/cross-validation-tutorial/)\n",
    "- [Changing the models hyperparameters](https://inside-machinelearning.com/en/decision-tree-and-hyperparameters/)\n",
    "- [Data Augmentation](https://inside-machinelearning.com/en/data-augmentation-csv-data/)\n",
    "- [Ensemble methods](https://inside-machinelearning.com/en/ensemble-methods/)\n",
    "\n"
   ]
  },
  {
   "cell_type": "markdown",
   "metadata": {},
   "source": []
  }
 ],
 "metadata": {
  "kernelspec": {
   "display_name": "tf",
   "language": "python",
   "name": "python3"
  },
  "language_info": {
   "codemirror_mode": {
    "name": "ipython",
    "version": 3
   },
   "file_extension": ".py",
   "mimetype": "text/x-python",
   "name": "python",
   "nbconvert_exporter": "python",
   "pygments_lexer": "ipython3"
  },
  "vscode": {
   "interpreter": {
    "hash": "cf63e6d2b8e734a350cb9077dece35e207f56e5771b7a6782724ed9b49361705"
   }
  }
 },
 "nbformat": 4,
 "nbformat_minor": 2
}
